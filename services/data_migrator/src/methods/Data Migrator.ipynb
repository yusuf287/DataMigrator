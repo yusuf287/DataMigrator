{
 "cells": [
  {
   "cell_type": "code",
   "execution_count": 1,
   "metadata": {
    "ExecuteTime": {
     "end_time": "2019-12-02T05:22:58.619100Z",
     "start_time": "2019-12-02T05:22:56.212686Z"
    }
   },
   "outputs": [],
   "source": [
    "import findspark\n",
    "findspark.init()\n",
    "from pyspark.sql import SparkSession\n",
    "\n",
    "spark = SparkSession \\\n",
    "        .builder \\\n",
    "        .appName(\"DataMigrator1\") \\\n",
    "        .getOrCreate()\n",
    "\n",
    "# spark = None "
   ]
  },
  {
   "cell_type": "code",
   "execution_count": 2,
   "metadata": {
    "ExecuteTime": {
     "end_time": "2019-12-02T05:22:59.983848Z",
     "start_time": "2019-12-02T05:22:59.369398Z"
    }
   },
   "outputs": [],
   "source": [
    "from migrate import DataMigrator"
   ]
  },
  {
   "cell_type": "code",
   "execution_count": 13,
   "metadata": {
    "ExecuteTime": {
     "end_time": "2019-12-02T05:23:35.497619Z",
     "start_time": "2019-12-02T05:23:35.494629Z"
    },
    "code_folding": []
   },
   "outputs": [],
   "source": [
    "# req_conf = \"/Users/yusuf.siddiqui/Jio/Competitions/PysparkChallenge/refinary/services/data_migrator/src/config/req_conf.json\"\n",
    "\n",
    "req_conf = {'input_type': 'csv', \n",
    "          'input_conf_path': \"/Users/yusuf.siddiqui/Jio/Competitions/PysparkChallenge/refinary/services/data_migrator/src/config/Input/input_csv.json\",\n",
    "          'output_type': 'csv',\n",
    "          'output_conf_path': '/Users/yusuf.siddiqui/Jio/Competitions/PysparkChallenge/refinary/services/data_migrator/src/config/Output/output_csv.json',  \n",
    "          'distribute': 'False'}\n"
   ]
  },
  {
   "cell_type": "code",
   "execution_count": null,
   "metadata": {
    "ExecuteTime": {
     "end_time": "2019-11-29T23:55:51.201379Z",
     "start_time": "2019-11-29T23:55:51.136221Z"
    }
   },
   "outputs": [],
   "source": []
  },
  {
   "cell_type": "code",
   "execution_count": 14,
   "metadata": {
    "ExecuteTime": {
     "end_time": "2019-12-02T05:23:36.105228Z",
     "start_time": "2019-12-02T05:23:36.102480Z"
    }
   },
   "outputs": [],
   "source": [
    "dd = DataMigrator(spark)"
   ]
  },
  {
   "cell_type": "code",
   "execution_count": 15,
   "metadata": {
    "ExecuteTime": {
     "end_time": "2019-12-02T05:23:36.640358Z",
     "start_time": "2019-12-02T05:23:36.635140Z"
    },
    "scrolled": false
   },
   "outputs": [
    {
     "name": "stdout",
     "output_type": "stream",
     "text": [
      "req_conf:  {'input_type': 'csv', 'input_conf_path': '/Users/yusuf.siddiqui/Jio/Competitions/PysparkChallenge/refinary/services/data_migrator/src/config/Input/input_csv.json', 'output_type': 'csv', 'output_conf_path': '/Users/yusuf.siddiqui/Jio/Competitions/PysparkChallenge/refinary/services/data_migrator/src/config/Output/output_csv.json', 'distribute': 'False'}\n",
      "Reading data initiated...\n",
      "Make sure you have correctly formatted config in  place!!\n",
      " [Errno 2] No such file or directory: '/Users/yusuf.siddiqui/Jio/Competitions/PysparkChallenge/refinary/services/data_migrator/src/config/Input/input_csv.json'\n",
      "Reading input config failed.\n"
     ]
    },
    {
     "data": {
      "text/plain": [
       "-1"
      ]
     },
     "execution_count": 15,
     "metadata": {},
     "output_type": "execute_result"
    }
   ],
   "source": [
    "\n",
    "dd.execute(req_conf)"
   ]
  },
  {
   "cell_type": "code",
   "execution_count": 12,
   "metadata": {
    "ExecuteTime": {
     "end_time": "2019-12-02T05:23:28.059440Z",
     "start_time": "2019-12-02T05:23:28.049793Z"
    }
   },
   "outputs": [
    {
     "data": {
      "text/html": [
       "\n",
       "            <div>\n",
       "                <p><b>SparkSession - in-memory</b></p>\n",
       "                \n",
       "        <div>\n",
       "            <p><b>SparkContext</b></p>\n",
       "\n",
       "            <p><a href=\"http://100.64.145.154:4045\">Spark UI</a></p>\n",
       "\n",
       "            <dl>\n",
       "              <dt>Version</dt>\n",
       "                <dd><code>v2.3.1</code></dd>\n",
       "              <dt>Master</dt>\n",
       "                <dd><code>local[*]</code></dd>\n",
       "              <dt>AppName</dt>\n",
       "                <dd><code>DataMigrator1</code></dd>\n",
       "            </dl>\n",
       "        </div>\n",
       "        \n",
       "            </div>\n",
       "        "
      ],
      "text/plain": [
       "<pyspark.sql.session.SparkSession at 0x10e9da9b0>"
      ]
     },
     "execution_count": 12,
     "metadata": {},
     "output_type": "execute_result"
    }
   ],
   "source": [
    "dd.spark"
   ]
  },
  {
   "cell_type": "code",
   "execution_count": null,
   "metadata": {},
   "outputs": [],
   "source": []
  }
 ],
 "metadata": {
  "kernelspec": {
   "display_name": "Python 3",
   "language": "python",
   "name": "python3"
  },
  "language_info": {
   "codemirror_mode": {
    "name": "ipython",
    "version": 3
   },
   "file_extension": ".py",
   "mimetype": "text/x-python",
   "name": "python",
   "nbconvert_exporter": "python",
   "pygments_lexer": "ipython3",
   "version": "3.6.8"
  },
  "toc": {
   "base_numbering": 1,
   "nav_menu": {},
   "number_sections": true,
   "sideBar": true,
   "skip_h1_title": false,
   "title_cell": "Table of Contents",
   "title_sidebar": "Contents",
   "toc_cell": false,
   "toc_position": {},
   "toc_section_display": true,
   "toc_window_display": false
  }
 },
 "nbformat": 4,
 "nbformat_minor": 2
}
